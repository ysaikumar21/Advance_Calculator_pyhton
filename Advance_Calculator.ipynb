{
  "nbformat": 4,
  "nbformat_minor": 0,
  "metadata": {
    "colab": {
      "provenance": []
    },
    "kernelspec": {
      "name": "python3",
      "display_name": "Python 3"
    },
    "language_info": {
      "name": "python"
    }
  },
  "cells": [
    {
      "cell_type": "code",
      "source": [
        "import math\n",
        "class CALCULATOR:\n",
        "  def advance_calculator(self):\n",
        "     \"\"\"An advanced calculator with various mathematical functions.\"\"\"\n",
        "     while True:\n",
        "      print('Available Operations: ')\n",
        "      print('1.Addition (+) ')\n",
        "      print('2.Subtraction (-)')\n",
        "      print('3.Division (/)')\n",
        "      print('4.Multiplication (*)')\n",
        "      print('5.Modules (%)')\n",
        "      print('6.Exponentiation (**)')\n",
        "      print('7.square_root (sqrt)')\n",
        "      print('8.Factorial (!)')\n",
        "      print('9.Trigonometric Functions (sin,cos,tan)')\n",
        "      print('10.Logarithm (log)')\n",
        "      print('11.Power of (pow)')\n",
        "      print('12.Exit')\n",
        "\n",
        "      choice=input('Enter your choice (1-12): ')\n",
        "      if choice=='1':\n",
        "        num1 = float(input(\"Enter the first number: \"))\n",
        "        num2 = float(input(\"Enter the second number: \"))\n",
        "        result = num1 + num2\n",
        "      elif choice=='2':\n",
        "        num1 = float(input(\"Enter the first number: \"))\n",
        "        num2 = float(input(\"Enter the second number: \"))\n",
        "        result = num1 - num2\n",
        "      elif choice=='3':\n",
        "        num1 = float(input(\"Enter the first number: \"))\n",
        "        num2 = float(input(\"Enter the second number: \"))\n",
        "        result = num1 / num2\n",
        "      elif choice=='4':\n",
        "        num1 = float(input(\"Enter the first number: \"))\n",
        "        num2 = float(input(\"Enter the second number: \"))\n",
        "        result = num1 * num2\n",
        "      elif choice=='5':\n",
        "        num1 = float(input(\"Enter the first number: \"))\n",
        "        num2 = float(input(\"Enter the second number: \"))\n",
        "        result = num1 % num2\n",
        "      elif choice=='6':\n",
        "        num1 = int(input(\"Enter the first number: \"))\n",
        "        num2 = int(input(\"Enter the second number: \"))\n",
        "        result = num1 ** num2\n",
        "      elif choice=='7':\n",
        "        num1 = float(input(\"Enter the first number: \"))\n",
        "        result = math.sqrt(num1)\n",
        "      elif choice=='8':\n",
        "        num1 = int(input(\"Enter the first number: \"))\n",
        "        result = math.factorial(num1)\n",
        "      elif choice=='9':\n",
        "        angle = float(input(\"Enter the angle in degrees: \"))\n",
        "        angle_radians = math.radians(angle)\n",
        "        print(\"sin:\", math.sin(angle_radians))\n",
        "        print(\"cos:\", math.cos(angle_radians))\n",
        "        print(\"tan:\", math.tan(angle_radians))\n",
        "      elif choice=='10':\n",
        "        num = float(input(\"Enter the number: \"))\n",
        "        base = float(input(\"Enter the base (default is 10): \"))\n",
        "        result = math.log(num, base)\n",
        "      elif choice=='11':\n",
        "        num1 = float(input(\"Enter the first number: \"))\n",
        "        num2 = float(input(\"Enter the second number: \"))\n",
        "        result=math.pow(num1,num2)\n",
        "      elif choice=='12':\n",
        "        break\n",
        "      else:\n",
        "        print('Invalid choice')\n",
        "      return result\n",
        "Calculator_function=CALCULATOR()\n",
        "print(Calculator_function.advance_calculator())\n",
        "\n",
        "\n",
        "\n",
        "\n",
        "\n",
        "\n",
        "\n",
        "\n"
      ],
      "metadata": {
        "colab": {
          "base_uri": "https://localhost:8080/"
        },
        "id": "Jp7uZobtW4p-",
        "outputId": "6e4c9cfe-9e1e-4201-e628-d874f69fc248"
      },
      "execution_count": 28,
      "outputs": [
        {
          "output_type": "stream",
          "name": "stdout",
          "text": [
            "Available Operations: \n",
            "1.Addition (+) \n",
            "2.Subtraction (-)\n",
            "3.Division (/)\n",
            "4.Multiplication (*)\n",
            "5.Modules (%)\n",
            "6.Exponentiation (**)\n",
            "7.square_root (sqrt)\n",
            "8.Factorial (!)\n",
            "9.Trigonometric Functions (sin,cos,tan)\n",
            "10.Logarithm (log)\n",
            "11.Power of (pow)\n",
            "12.Exit\n",
            "Enter your choice (1-12): 11\n",
            "Enter the first number: 12\n",
            "Enter the second number: 2\n",
            "144.0\n"
          ]
        }
      ]
    },
    {
      "cell_type": "code",
      "source": [],
      "metadata": {
        "id": "KQXGxEmjj4iS"
      },
      "execution_count": null,
      "outputs": []
    }
  ]
}